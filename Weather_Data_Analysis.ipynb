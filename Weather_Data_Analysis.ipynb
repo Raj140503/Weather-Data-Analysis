{
  "nbformat": 4,
  "nbformat_minor": 0,
  "metadata": {
    "colab": {
      "provenance": [],
      "toc_visible": true
    },
    "kernelspec": {
      "name": "python3",
      "display_name": "Python 3"
    },
    "language_info": {
      "name": "python"
    }
  },
  "cells": [
    {
      "cell_type": "code",
      "execution_count": 1,
      "metadata": {
        "id": "3jrrueuL7GDo"
      },
      "outputs": [],
      "source": [
        "import pandas as pd\n",
        "import numpy as np\n",
        "import matplotlib.pyplot as plt"
      ]
    },
    {
      "cell_type": "code",
      "source": [
        "data = pd.read_csv('data.csv')\n",
        "data"
      ],
      "metadata": {
        "colab": {
          "base_uri": "https://localhost:8080/",
          "height": 495
        },
        "id": "bp6IKm8H7edD",
        "outputId": "def95d7e-0d22-4387-a3d5-5d858f159487"
      },
      "execution_count": 3,
      "outputs": [
        {
          "output_type": "execute_result",
          "data": {
            "text/plain": [
              "             Day  Average temperature (°F)  Average humidity (%)  \\\n",
              "0      1/01/2009                      37.8                    35   \n",
              "1      2/01/2009                      43.2                    32   \n",
              "2      3/01/2009                      25.7                    60   \n",
              "3      4/01/2009                       9.3                    67   \n",
              "4      5/01/2009                      23.5                    30   \n",
              "...          ...                       ...                   ...   \n",
              "3275  24/10/2018                      45.9                    53   \n",
              "3276  25/10/2018                      46.7                    40   \n",
              "3277  26/10/2018                      48.4                    35   \n",
              "3278  27/10/2018                      53.3                    37   \n",
              "3279  28/10/2018                      49.4                    48   \n",
              "\n",
              "      Average dewpoint (°F)  Average barometer (in)  Average windspeed (mph)  \\\n",
              "0                      12.7                    29.7                     26.4   \n",
              "1                      14.7                    29.5                     12.8   \n",
              "2                      12.7                    29.7                      8.3   \n",
              "3                       0.1                    30.4                      2.9   \n",
              "4                      -5.3                    29.9                     16.7   \n",
              "...                     ...                     ...                      ...   \n",
              "3275                   27.5                    29.8                      2.7   \n",
              "3276                   22.7                    29.8                      4.5   \n",
              "3277                   21.6                    29.8                      9.7   \n",
              "3278                   26.6                    29.8                     10.3   \n",
              "3279                   25.2                    29.9                      5.3   \n",
              "\n",
              "      Average gustspeed (mph)  Average direction (°deg)  \\\n",
              "0                        36.8                       274   \n",
              "1                        18.0                       240   \n",
              "2                        12.2                       290   \n",
              "3                         4.5                        47   \n",
              "4                        23.1                       265   \n",
              "...                       ...                       ...   \n",
              "3275                      4.6                       282   \n",
              "3276                      7.2                       283   \n",
              "3277                     14.4                       283   \n",
              "3278                     14.8                       282   \n",
              "3279                      7.6                       282   \n",
              "\n",
              "      Rainfall for month (in)  Rainfall for year (in)  \\\n",
              "0                        0.00                    0.00   \n",
              "1                        0.00                    0.00   \n",
              "2                        0.00                    0.00   \n",
              "3                        0.00                    0.00   \n",
              "4                        0.00                    0.00   \n",
              "...                       ...                     ...   \n",
              "3275                     0.85                    6.86   \n",
              "3276                     0.85                    6.86   \n",
              "3277                     0.85                    6.86   \n",
              "3278                     0.85                    6.86   \n",
              "3279                     0.85                    6.86   \n",
              "\n",
              "      Maximum rain per minute   Maximum temperature (°F)  \\\n",
              "0                          0.0                      40.1   \n",
              "1                          0.0                      52.8   \n",
              "2                          0.0                      41.2   \n",
              "3                          0.0                      19.4   \n",
              "4                          0.0                      30.3   \n",
              "...                        ...                       ...   \n",
              "3275                       0.0                      57.3   \n",
              "3276                       0.0                      61.8   \n",
              "3277                       0.0                      58.7   \n",
              "3278                       0.0                      64.5   \n",
              "3279                       0.0                      67.3   \n",
              "\n",
              "      Minimum temperature (°F)  Maximum humidity (%)  Minimum humidity (%)  \\\n",
              "0                         34.5                    44                    27   \n",
              "1                         37.5                    43                    16   \n",
              "2                          6.7                    89                    35   \n",
              "3                         -0.0                    79                    35   \n",
              "4                         15.1                    56                    13   \n",
              "...                        ...                   ...                   ...   \n",
              "3275                      35.9                    81                    23   \n",
              "3276                      35.0                    60                    19   \n",
              "3277                      42.6                    48                    19   \n",
              "3278                      38.3                    78                    24   \n",
              "3279                      30.9                    90                    19   \n",
              "\n",
              "      Maximum pressure   Minimum pressure   Maximum windspeed (mph)  \\\n",
              "0                29.762             29.596                     41.4   \n",
              "1                29.669             29.268                     35.7   \n",
              "2                30.232             29.260                     25.3   \n",
              "3                30.566             30.227                     12.7   \n",
              "4                30.233             29.568                     38.0   \n",
              "...                 ...                ...                      ...   \n",
              "3275             29.947             29.710                     12.7   \n",
              "3276             29.933             29.682                     13.8   \n",
              "3277             29.979             29.759                     20.7   \n",
              "3278             29.935             29.650                     28.8   \n",
              "3279             30.040             29.663                     18.4   \n",
              "\n",
              "      Maximum gust speed (mph)  Maximum heat index (°F)  \n",
              "0                         59.0                     40.1  \n",
              "1                         51.0                     52.8  \n",
              "2                         38.0                     41.2  \n",
              "3                         20.0                     32.0  \n",
              "4                         53.0                     32.0  \n",
              "...                        ...                      ...  \n",
              "3275                      19.6                     57.2  \n",
              "3276                      19.6                     61.8  \n",
              "3277                      31.1                     58.7  \n",
              "3278                      38.0                     64.5  \n",
              "3279                      25.3                     67.3  \n",
              "\n",
              "[3280 rows x 20 columns]"
            ],
            "text/html": [
              "\n",
              "  <div id=\"df-e39ca72d-5d00-463a-a00b-61d7d31f356a\" class=\"colab-df-container\">\n",
              "    <div>\n",
              "<style scoped>\n",
              "    .dataframe tbody tr th:only-of-type {\n",
              "        vertical-align: middle;\n",
              "    }\n",
              "\n",
              "    .dataframe tbody tr th {\n",
              "        vertical-align: top;\n",
              "    }\n",
              "\n",
              "    .dataframe thead th {\n",
              "        text-align: right;\n",
              "    }\n",
              "</style>\n",
              "<table border=\"1\" class=\"dataframe\">\n",
              "  <thead>\n",
              "    <tr style=\"text-align: right;\">\n",
              "      <th></th>\n",
              "      <th>Day</th>\n",
              "      <th>Average temperature (°F)</th>\n",
              "      <th>Average humidity (%)</th>\n",
              "      <th>Average dewpoint (°F)</th>\n",
              "      <th>Average barometer (in)</th>\n",
              "      <th>Average windspeed (mph)</th>\n",
              "      <th>Average gustspeed (mph)</th>\n",
              "      <th>Average direction (°deg)</th>\n",
              "      <th>Rainfall for month (in)</th>\n",
              "      <th>Rainfall for year (in)</th>\n",
              "      <th>Maximum rain per minute</th>\n",
              "      <th>Maximum temperature (°F)</th>\n",
              "      <th>Minimum temperature (°F)</th>\n",
              "      <th>Maximum humidity (%)</th>\n",
              "      <th>Minimum humidity (%)</th>\n",
              "      <th>Maximum pressure</th>\n",
              "      <th>Minimum pressure</th>\n",
              "      <th>Maximum windspeed (mph)</th>\n",
              "      <th>Maximum gust speed (mph)</th>\n",
              "      <th>Maximum heat index (°F)</th>\n",
              "    </tr>\n",
              "  </thead>\n",
              "  <tbody>\n",
              "    <tr>\n",
              "      <th>0</th>\n",
              "      <td>1/01/2009</td>\n",
              "      <td>37.8</td>\n",
              "      <td>35</td>\n",
              "      <td>12.7</td>\n",
              "      <td>29.7</td>\n",
              "      <td>26.4</td>\n",
              "      <td>36.8</td>\n",
              "      <td>274</td>\n",
              "      <td>0.00</td>\n",
              "      <td>0.00</td>\n",
              "      <td>0.0</td>\n",
              "      <td>40.1</td>\n",
              "      <td>34.5</td>\n",
              "      <td>44</td>\n",
              "      <td>27</td>\n",
              "      <td>29.762</td>\n",
              "      <td>29.596</td>\n",
              "      <td>41.4</td>\n",
              "      <td>59.0</td>\n",
              "      <td>40.1</td>\n",
              "    </tr>\n",
              "    <tr>\n",
              "      <th>1</th>\n",
              "      <td>2/01/2009</td>\n",
              "      <td>43.2</td>\n",
              "      <td>32</td>\n",
              "      <td>14.7</td>\n",
              "      <td>29.5</td>\n",
              "      <td>12.8</td>\n",
              "      <td>18.0</td>\n",
              "      <td>240</td>\n",
              "      <td>0.00</td>\n",
              "      <td>0.00</td>\n",
              "      <td>0.0</td>\n",
              "      <td>52.8</td>\n",
              "      <td>37.5</td>\n",
              "      <td>43</td>\n",
              "      <td>16</td>\n",
              "      <td>29.669</td>\n",
              "      <td>29.268</td>\n",
              "      <td>35.7</td>\n",
              "      <td>51.0</td>\n",
              "      <td>52.8</td>\n",
              "    </tr>\n",
              "    <tr>\n",
              "      <th>2</th>\n",
              "      <td>3/01/2009</td>\n",
              "      <td>25.7</td>\n",
              "      <td>60</td>\n",
              "      <td>12.7</td>\n",
              "      <td>29.7</td>\n",
              "      <td>8.3</td>\n",
              "      <td>12.2</td>\n",
              "      <td>290</td>\n",
              "      <td>0.00</td>\n",
              "      <td>0.00</td>\n",
              "      <td>0.0</td>\n",
              "      <td>41.2</td>\n",
              "      <td>6.7</td>\n",
              "      <td>89</td>\n",
              "      <td>35</td>\n",
              "      <td>30.232</td>\n",
              "      <td>29.260</td>\n",
              "      <td>25.3</td>\n",
              "      <td>38.0</td>\n",
              "      <td>41.2</td>\n",
              "    </tr>\n",
              "    <tr>\n",
              "      <th>3</th>\n",
              "      <td>4/01/2009</td>\n",
              "      <td>9.3</td>\n",
              "      <td>67</td>\n",
              "      <td>0.1</td>\n",
              "      <td>30.4</td>\n",
              "      <td>2.9</td>\n",
              "      <td>4.5</td>\n",
              "      <td>47</td>\n",
              "      <td>0.00</td>\n",
              "      <td>0.00</td>\n",
              "      <td>0.0</td>\n",
              "      <td>19.4</td>\n",
              "      <td>-0.0</td>\n",
              "      <td>79</td>\n",
              "      <td>35</td>\n",
              "      <td>30.566</td>\n",
              "      <td>30.227</td>\n",
              "      <td>12.7</td>\n",
              "      <td>20.0</td>\n",
              "      <td>32.0</td>\n",
              "    </tr>\n",
              "    <tr>\n",
              "      <th>4</th>\n",
              "      <td>5/01/2009</td>\n",
              "      <td>23.5</td>\n",
              "      <td>30</td>\n",
              "      <td>-5.3</td>\n",
              "      <td>29.9</td>\n",
              "      <td>16.7</td>\n",
              "      <td>23.1</td>\n",
              "      <td>265</td>\n",
              "      <td>0.00</td>\n",
              "      <td>0.00</td>\n",
              "      <td>0.0</td>\n",
              "      <td>30.3</td>\n",
              "      <td>15.1</td>\n",
              "      <td>56</td>\n",
              "      <td>13</td>\n",
              "      <td>30.233</td>\n",
              "      <td>29.568</td>\n",
              "      <td>38.0</td>\n",
              "      <td>53.0</td>\n",
              "      <td>32.0</td>\n",
              "    </tr>\n",
              "    <tr>\n",
              "      <th>...</th>\n",
              "      <td>...</td>\n",
              "      <td>...</td>\n",
              "      <td>...</td>\n",
              "      <td>...</td>\n",
              "      <td>...</td>\n",
              "      <td>...</td>\n",
              "      <td>...</td>\n",
              "      <td>...</td>\n",
              "      <td>...</td>\n",
              "      <td>...</td>\n",
              "      <td>...</td>\n",
              "      <td>...</td>\n",
              "      <td>...</td>\n",
              "      <td>...</td>\n",
              "      <td>...</td>\n",
              "      <td>...</td>\n",
              "      <td>...</td>\n",
              "      <td>...</td>\n",
              "      <td>...</td>\n",
              "      <td>...</td>\n",
              "    </tr>\n",
              "    <tr>\n",
              "      <th>3275</th>\n",
              "      <td>24/10/2018</td>\n",
              "      <td>45.9</td>\n",
              "      <td>53</td>\n",
              "      <td>27.5</td>\n",
              "      <td>29.8</td>\n",
              "      <td>2.7</td>\n",
              "      <td>4.6</td>\n",
              "      <td>282</td>\n",
              "      <td>0.85</td>\n",
              "      <td>6.86</td>\n",
              "      <td>0.0</td>\n",
              "      <td>57.3</td>\n",
              "      <td>35.9</td>\n",
              "      <td>81</td>\n",
              "      <td>23</td>\n",
              "      <td>29.947</td>\n",
              "      <td>29.710</td>\n",
              "      <td>12.7</td>\n",
              "      <td>19.6</td>\n",
              "      <td>57.2</td>\n",
              "    </tr>\n",
              "    <tr>\n",
              "      <th>3276</th>\n",
              "      <td>25/10/2018</td>\n",
              "      <td>46.7</td>\n",
              "      <td>40</td>\n",
              "      <td>22.7</td>\n",
              "      <td>29.8</td>\n",
              "      <td>4.5</td>\n",
              "      <td>7.2</td>\n",
              "      <td>283</td>\n",
              "      <td>0.85</td>\n",
              "      <td>6.86</td>\n",
              "      <td>0.0</td>\n",
              "      <td>61.8</td>\n",
              "      <td>35.0</td>\n",
              "      <td>60</td>\n",
              "      <td>19</td>\n",
              "      <td>29.933</td>\n",
              "      <td>29.682</td>\n",
              "      <td>13.8</td>\n",
              "      <td>19.6</td>\n",
              "      <td>61.8</td>\n",
              "    </tr>\n",
              "    <tr>\n",
              "      <th>3277</th>\n",
              "      <td>26/10/2018</td>\n",
              "      <td>48.4</td>\n",
              "      <td>35</td>\n",
              "      <td>21.6</td>\n",
              "      <td>29.8</td>\n",
              "      <td>9.7</td>\n",
              "      <td>14.4</td>\n",
              "      <td>283</td>\n",
              "      <td>0.85</td>\n",
              "      <td>6.86</td>\n",
              "      <td>0.0</td>\n",
              "      <td>58.7</td>\n",
              "      <td>42.6</td>\n",
              "      <td>48</td>\n",
              "      <td>19</td>\n",
              "      <td>29.979</td>\n",
              "      <td>29.759</td>\n",
              "      <td>20.7</td>\n",
              "      <td>31.1</td>\n",
              "      <td>58.7</td>\n",
              "    </tr>\n",
              "    <tr>\n",
              "      <th>3278</th>\n",
              "      <td>27/10/2018</td>\n",
              "      <td>53.3</td>\n",
              "      <td>37</td>\n",
              "      <td>26.6</td>\n",
              "      <td>29.8</td>\n",
              "      <td>10.3</td>\n",
              "      <td>14.8</td>\n",
              "      <td>282</td>\n",
              "      <td>0.85</td>\n",
              "      <td>6.86</td>\n",
              "      <td>0.0</td>\n",
              "      <td>64.5</td>\n",
              "      <td>38.3</td>\n",
              "      <td>78</td>\n",
              "      <td>24</td>\n",
              "      <td>29.935</td>\n",
              "      <td>29.650</td>\n",
              "      <td>28.8</td>\n",
              "      <td>38.0</td>\n",
              "      <td>64.5</td>\n",
              "    </tr>\n",
              "    <tr>\n",
              "      <th>3279</th>\n",
              "      <td>28/10/2018</td>\n",
              "      <td>49.4</td>\n",
              "      <td>48</td>\n",
              "      <td>25.2</td>\n",
              "      <td>29.9</td>\n",
              "      <td>5.3</td>\n",
              "      <td>7.6</td>\n",
              "      <td>282</td>\n",
              "      <td>0.85</td>\n",
              "      <td>6.86</td>\n",
              "      <td>0.0</td>\n",
              "      <td>67.3</td>\n",
              "      <td>30.9</td>\n",
              "      <td>90</td>\n",
              "      <td>19</td>\n",
              "      <td>30.040</td>\n",
              "      <td>29.663</td>\n",
              "      <td>18.4</td>\n",
              "      <td>25.3</td>\n",
              "      <td>67.3</td>\n",
              "    </tr>\n",
              "  </tbody>\n",
              "</table>\n",
              "<p>3280 rows × 20 columns</p>\n",
              "</div>\n",
              "    <div class=\"colab-df-buttons\">\n",
              "\n",
              "  <div class=\"colab-df-container\">\n",
              "    <button class=\"colab-df-convert\" onclick=\"convertToInteractive('df-e39ca72d-5d00-463a-a00b-61d7d31f356a')\"\n",
              "            title=\"Convert this dataframe to an interactive table.\"\n",
              "            style=\"display:none;\">\n",
              "\n",
              "  <svg xmlns=\"http://www.w3.org/2000/svg\" height=\"24px\" viewBox=\"0 -960 960 960\">\n",
              "    <path d=\"M120-120v-720h720v720H120Zm60-500h600v-160H180v160Zm220 220h160v-160H400v160Zm0 220h160v-160H400v160ZM180-400h160v-160H180v160Zm440 0h160v-160H620v160ZM180-180h160v-160H180v160Zm440 0h160v-160H620v160Z\"/>\n",
              "  </svg>\n",
              "    </button>\n",
              "\n",
              "  <style>\n",
              "    .colab-df-container {\n",
              "      display:flex;\n",
              "      gap: 12px;\n",
              "    }\n",
              "\n",
              "    .colab-df-convert {\n",
              "      background-color: #E8F0FE;\n",
              "      border: none;\n",
              "      border-radius: 50%;\n",
              "      cursor: pointer;\n",
              "      display: none;\n",
              "      fill: #1967D2;\n",
              "      height: 32px;\n",
              "      padding: 0 0 0 0;\n",
              "      width: 32px;\n",
              "    }\n",
              "\n",
              "    .colab-df-convert:hover {\n",
              "      background-color: #E2EBFA;\n",
              "      box-shadow: 0px 1px 2px rgba(60, 64, 67, 0.3), 0px 1px 3px 1px rgba(60, 64, 67, 0.15);\n",
              "      fill: #174EA6;\n",
              "    }\n",
              "\n",
              "    .colab-df-buttons div {\n",
              "      margin-bottom: 4px;\n",
              "    }\n",
              "\n",
              "    [theme=dark] .colab-df-convert {\n",
              "      background-color: #3B4455;\n",
              "      fill: #D2E3FC;\n",
              "    }\n",
              "\n",
              "    [theme=dark] .colab-df-convert:hover {\n",
              "      background-color: #434B5C;\n",
              "      box-shadow: 0px 1px 3px 1px rgba(0, 0, 0, 0.15);\n",
              "      filter: drop-shadow(0px 1px 2px rgba(0, 0, 0, 0.3));\n",
              "      fill: #FFFFFF;\n",
              "    }\n",
              "  </style>\n",
              "\n",
              "    <script>\n",
              "      const buttonEl =\n",
              "        document.querySelector('#df-e39ca72d-5d00-463a-a00b-61d7d31f356a button.colab-df-convert');\n",
              "      buttonEl.style.display =\n",
              "        google.colab.kernel.accessAllowed ? 'block' : 'none';\n",
              "\n",
              "      async function convertToInteractive(key) {\n",
              "        const element = document.querySelector('#df-e39ca72d-5d00-463a-a00b-61d7d31f356a');\n",
              "        const dataTable =\n",
              "          await google.colab.kernel.invokeFunction('convertToInteractive',\n",
              "                                                    [key], {});\n",
              "        if (!dataTable) return;\n",
              "\n",
              "        const docLinkHtml = 'Like what you see? Visit the ' +\n",
              "          '<a target=\"_blank\" href=https://colab.research.google.com/notebooks/data_table.ipynb>data table notebook</a>'\n",
              "          + ' to learn more about interactive tables.';\n",
              "        element.innerHTML = '';\n",
              "        dataTable['output_type'] = 'display_data';\n",
              "        await google.colab.output.renderOutput(dataTable, element);\n",
              "        const docLink = document.createElement('div');\n",
              "        docLink.innerHTML = docLinkHtml;\n",
              "        element.appendChild(docLink);\n",
              "      }\n",
              "    </script>\n",
              "  </div>\n",
              "\n",
              "\n",
              "<div id=\"df-b467f4cc-f13c-4104-ae97-2b0549ef9d9b\">\n",
              "  <button class=\"colab-df-quickchart\" onclick=\"quickchart('df-b467f4cc-f13c-4104-ae97-2b0549ef9d9b')\"\n",
              "            title=\"Suggest charts\"\n",
              "            style=\"display:none;\">\n",
              "\n",
              "<svg xmlns=\"http://www.w3.org/2000/svg\" height=\"24px\"viewBox=\"0 0 24 24\"\n",
              "     width=\"24px\">\n",
              "    <g>\n",
              "        <path d=\"M19 3H5c-1.1 0-2 .9-2 2v14c0 1.1.9 2 2 2h14c1.1 0 2-.9 2-2V5c0-1.1-.9-2-2-2zM9 17H7v-7h2v7zm4 0h-2V7h2v10zm4 0h-2v-4h2v4z\"/>\n",
              "    </g>\n",
              "</svg>\n",
              "  </button>\n",
              "\n",
              "<style>\n",
              "  .colab-df-quickchart {\n",
              "      --bg-color: #E8F0FE;\n",
              "      --fill-color: #1967D2;\n",
              "      --hover-bg-color: #E2EBFA;\n",
              "      --hover-fill-color: #174EA6;\n",
              "      --disabled-fill-color: #AAA;\n",
              "      --disabled-bg-color: #DDD;\n",
              "  }\n",
              "\n",
              "  [theme=dark] .colab-df-quickchart {\n",
              "      --bg-color: #3B4455;\n",
              "      --fill-color: #D2E3FC;\n",
              "      --hover-bg-color: #434B5C;\n",
              "      --hover-fill-color: #FFFFFF;\n",
              "      --disabled-bg-color: #3B4455;\n",
              "      --disabled-fill-color: #666;\n",
              "  }\n",
              "\n",
              "  .colab-df-quickchart {\n",
              "    background-color: var(--bg-color);\n",
              "    border: none;\n",
              "    border-radius: 50%;\n",
              "    cursor: pointer;\n",
              "    display: none;\n",
              "    fill: var(--fill-color);\n",
              "    height: 32px;\n",
              "    padding: 0;\n",
              "    width: 32px;\n",
              "  }\n",
              "\n",
              "  .colab-df-quickchart:hover {\n",
              "    background-color: var(--hover-bg-color);\n",
              "    box-shadow: 0 1px 2px rgba(60, 64, 67, 0.3), 0 1px 3px 1px rgba(60, 64, 67, 0.15);\n",
              "    fill: var(--button-hover-fill-color);\n",
              "  }\n",
              "\n",
              "  .colab-df-quickchart-complete:disabled,\n",
              "  .colab-df-quickchart-complete:disabled:hover {\n",
              "    background-color: var(--disabled-bg-color);\n",
              "    fill: var(--disabled-fill-color);\n",
              "    box-shadow: none;\n",
              "  }\n",
              "\n",
              "  .colab-df-spinner {\n",
              "    border: 2px solid var(--fill-color);\n",
              "    border-color: transparent;\n",
              "    border-bottom-color: var(--fill-color);\n",
              "    animation:\n",
              "      spin 1s steps(1) infinite;\n",
              "  }\n",
              "\n",
              "  @keyframes spin {\n",
              "    0% {\n",
              "      border-color: transparent;\n",
              "      border-bottom-color: var(--fill-color);\n",
              "      border-left-color: var(--fill-color);\n",
              "    }\n",
              "    20% {\n",
              "      border-color: transparent;\n",
              "      border-left-color: var(--fill-color);\n",
              "      border-top-color: var(--fill-color);\n",
              "    }\n",
              "    30% {\n",
              "      border-color: transparent;\n",
              "      border-left-color: var(--fill-color);\n",
              "      border-top-color: var(--fill-color);\n",
              "      border-right-color: var(--fill-color);\n",
              "    }\n",
              "    40% {\n",
              "      border-color: transparent;\n",
              "      border-right-color: var(--fill-color);\n",
              "      border-top-color: var(--fill-color);\n",
              "    }\n",
              "    60% {\n",
              "      border-color: transparent;\n",
              "      border-right-color: var(--fill-color);\n",
              "    }\n",
              "    80% {\n",
              "      border-color: transparent;\n",
              "      border-right-color: var(--fill-color);\n",
              "      border-bottom-color: var(--fill-color);\n",
              "    }\n",
              "    90% {\n",
              "      border-color: transparent;\n",
              "      border-bottom-color: var(--fill-color);\n",
              "    }\n",
              "  }\n",
              "</style>\n",
              "\n",
              "  <script>\n",
              "    async function quickchart(key) {\n",
              "      const quickchartButtonEl =\n",
              "        document.querySelector('#' + key + ' button');\n",
              "      quickchartButtonEl.disabled = true;  // To prevent multiple clicks.\n",
              "      quickchartButtonEl.classList.add('colab-df-spinner');\n",
              "      try {\n",
              "        const charts = await google.colab.kernel.invokeFunction(\n",
              "            'suggestCharts', [key], {});\n",
              "      } catch (error) {\n",
              "        console.error('Error during call to suggestCharts:', error);\n",
              "      }\n",
              "      quickchartButtonEl.classList.remove('colab-df-spinner');\n",
              "      quickchartButtonEl.classList.add('colab-df-quickchart-complete');\n",
              "    }\n",
              "    (() => {\n",
              "      let quickchartButtonEl =\n",
              "        document.querySelector('#df-b467f4cc-f13c-4104-ae97-2b0549ef9d9b button');\n",
              "      quickchartButtonEl.style.display =\n",
              "        google.colab.kernel.accessAllowed ? 'block' : 'none';\n",
              "    })();\n",
              "  </script>\n",
              "</div>\n",
              "\n",
              "  <div id=\"id_1af35a4f-0cb3-4905-b4e9-2ca2d51914d8\">\n",
              "    <style>\n",
              "      .colab-df-generate {\n",
              "        background-color: #E8F0FE;\n",
              "        border: none;\n",
              "        border-radius: 50%;\n",
              "        cursor: pointer;\n",
              "        display: none;\n",
              "        fill: #1967D2;\n",
              "        height: 32px;\n",
              "        padding: 0 0 0 0;\n",
              "        width: 32px;\n",
              "      }\n",
              "\n",
              "      .colab-df-generate:hover {\n",
              "        background-color: #E2EBFA;\n",
              "        box-shadow: 0px 1px 2px rgba(60, 64, 67, 0.3), 0px 1px 3px 1px rgba(60, 64, 67, 0.15);\n",
              "        fill: #174EA6;\n",
              "      }\n",
              "\n",
              "      [theme=dark] .colab-df-generate {\n",
              "        background-color: #3B4455;\n",
              "        fill: #D2E3FC;\n",
              "      }\n",
              "\n",
              "      [theme=dark] .colab-df-generate:hover {\n",
              "        background-color: #434B5C;\n",
              "        box-shadow: 0px 1px 3px 1px rgba(0, 0, 0, 0.15);\n",
              "        filter: drop-shadow(0px 1px 2px rgba(0, 0, 0, 0.3));\n",
              "        fill: #FFFFFF;\n",
              "      }\n",
              "    </style>\n",
              "    <button class=\"colab-df-generate\" onclick=\"generateWithVariable('data')\"\n",
              "            title=\"Generate code using this dataframe.\"\n",
              "            style=\"display:none;\">\n",
              "\n",
              "  <svg xmlns=\"http://www.w3.org/2000/svg\" height=\"24px\"viewBox=\"0 0 24 24\"\n",
              "       width=\"24px\">\n",
              "    <path d=\"M7,19H8.4L18.45,9,17,7.55,7,17.6ZM5,21V16.75L18.45,3.32a2,2,0,0,1,2.83,0l1.4,1.43a1.91,1.91,0,0,1,.58,1.4,1.91,1.91,0,0,1-.58,1.4L9.25,21ZM18.45,9,17,7.55Zm-12,3A5.31,5.31,0,0,0,4.9,8.1,5.31,5.31,0,0,0,1,6.5,5.31,5.31,0,0,0,4.9,4.9,5.31,5.31,0,0,0,6.5,1,5.31,5.31,0,0,0,8.1,4.9,5.31,5.31,0,0,0,12,6.5,5.46,5.46,0,0,0,6.5,12Z\"/>\n",
              "  </svg>\n",
              "    </button>\n",
              "    <script>\n",
              "      (() => {\n",
              "      const buttonEl =\n",
              "        document.querySelector('#id_1af35a4f-0cb3-4905-b4e9-2ca2d51914d8 button.colab-df-generate');\n",
              "      buttonEl.style.display =\n",
              "        google.colab.kernel.accessAllowed ? 'block' : 'none';\n",
              "\n",
              "      buttonEl.onclick = () => {\n",
              "        google.colab.notebook.generateWithVariable('data');\n",
              "      }\n",
              "      })();\n",
              "    </script>\n",
              "  </div>\n",
              "\n",
              "    </div>\n",
              "  </div>\n"
            ],
            "application/vnd.google.colaboratory.intrinsic+json": {
              "type": "dataframe",
              "variable_name": "data",
              "summary": "{\n  \"name\": \"data\",\n  \"rows\": 3280,\n  \"fields\": [\n    {\n      \"column\": \"Day\",\n      \"properties\": {\n        \"dtype\": \"string\",\n        \"num_unique_values\": 3280,\n        \"samples\": [\n          \"2/11/2017\",\n          \"23/03/2016\",\n          \"15/02/2014\"\n        ],\n        \"semantic_type\": \"\",\n        \"description\": \"\"\n      }\n    },\n    {\n      \"column\": \"Average temperature (\\u00b0F)\",\n      \"properties\": {\n        \"dtype\": \"number\",\n        \"std\": 15.188164868884014,\n        \"min\": -12.1,\n        \"max\": 76.3,\n        \"num_unique_values\": 638,\n        \"samples\": [\n          21.5,\n          39.3,\n          33.0\n        ],\n        \"semantic_type\": \"\",\n        \"description\": \"\"\n      }\n    },\n    {\n      \"column\": \"Average humidity (%)\",\n      \"properties\": {\n        \"dtype\": \"number\",\n        \"std\": 17,\n        \"min\": 9,\n        \"max\": 92,\n        \"num_unique_values\": 84,\n        \"samples\": [\n          25,\n          35,\n          89\n        ],\n        \"semantic_type\": \"\",\n        \"description\": \"\"\n      }\n    },\n    {\n      \"column\": \"Average dewpoint (\\u00b0F)\",\n      \"properties\": {\n        \"dtype\": \"number\",\n        \"std\": 14.64917771989255,\n        \"min\": -22.2,\n        \"max\": 55.1,\n        \"num_unique_values\": 627,\n        \"samples\": [\n          -6.5,\n          36.7,\n          48.6\n        ],\n        \"semantic_type\": \"\",\n        \"description\": \"\"\n      }\n    },\n    {\n      \"column\": \"Average barometer (in)\",\n      \"properties\": {\n        \"dtype\": \"number\",\n        \"std\": 0.2521874027709947,\n        \"min\": 28.2,\n        \"max\": 31.0,\n        \"num_unique_values\": 22,\n        \"samples\": [\n          29.7,\n          30.7,\n          30.1\n        ],\n        \"semantic_type\": \"\",\n        \"description\": \"\"\n      }\n    },\n    {\n      \"column\": \"Average windspeed (mph)\",\n      \"properties\": {\n        \"dtype\": \"number\",\n        \"std\": 4.093984234761319,\n        \"min\": 0.0,\n        \"max\": 26.4,\n        \"num_unique_values\": 201,\n        \"samples\": [\n          8.1,\n          11.9,\n          15.4\n        ],\n        \"semantic_type\": \"\",\n        \"description\": \"\"\n      }\n    },\n    {\n      \"column\": \"Average gustspeed (mph)\",\n      \"properties\": {\n        \"dtype\": \"number\",\n        \"std\": 15.2266745904596,\n        \"min\": 0.0,\n        \"max\": 240.4,\n        \"num_unique_values\": 329,\n        \"samples\": [\n          24.6,\n          48.1,\n          109.7\n        ],\n        \"semantic_type\": \"\",\n        \"description\": \"\"\n      }\n    },\n    {\n      \"column\": \"Average direction (\\u00b0deg)\",\n      \"properties\": {\n        \"dtype\": \"number\",\n        \"std\": 101,\n        \"min\": 0,\n        \"max\": 360,\n        \"num_unique_values\": 324,\n        \"samples\": [\n          305,\n          360,\n          312\n        ],\n        \"semantic_type\": \"\",\n        \"description\": \"\"\n      }\n    },\n    {\n      \"column\": \"Rainfall for month (in)\",\n      \"properties\": {\n        \"dtype\": \"number\",\n        \"std\": 0.633900218472296,\n        \"min\": 0.0,\n        \"max\": 4.48,\n        \"num_unique_values\": 232,\n        \"samples\": [\n          1.02,\n          0.17,\n          0.25\n        ],\n        \"semantic_type\": \"\",\n        \"description\": \"\"\n      }\n    },\n    {\n      \"column\": \"Rainfall for year (in)\",\n      \"properties\": {\n        \"dtype\": \"number\",\n        \"std\": 4.702936063078729,\n        \"min\": 0.0,\n        \"max\": 16.41,\n        \"num_unique_values\": 715,\n        \"samples\": [\n          0.6,\n          1.38,\n          4.41\n        ],\n        \"semantic_type\": \"\",\n        \"description\": \"\"\n      }\n    },\n    {\n      \"column\": \"Maximum rain per minute \",\n      \"properties\": {\n        \"dtype\": \"number\",\n        \"std\": 0.013401745159946268,\n        \"min\": 0.0,\n        \"max\": 0.26,\n        \"num_unique_values\": 17,\n        \"samples\": [\n          0.0,\n          0.01,\n          0.04\n        ],\n        \"semantic_type\": \"\",\n        \"description\": \"\"\n      }\n    },\n    {\n      \"column\": \"Maximum temperature (\\u00b0F)\",\n      \"properties\": {\n        \"dtype\": \"number\",\n        \"std\": 17.60780914568622,\n        \"min\": -6.1,\n        \"max\": 92.7,\n        \"num_unique_values\": 628,\n        \"samples\": [\n          87.9,\n          37.8,\n          66.7\n        ],\n        \"semantic_type\": \"\",\n        \"description\": \"\"\n      }\n    },\n    {\n      \"column\": \"Minimum temperature (\\u00b0F)\",\n      \"properties\": {\n        \"dtype\": \"number\",\n        \"std\": 14.032661106784373,\n        \"min\": -27.7,\n        \"max\": 64.0,\n        \"num_unique_values\": 504,\n        \"samples\": [\n          20.0,\n          45.4,\n          8.3\n        ],\n        \"semantic_type\": \"\",\n        \"description\": \"\"\n      }\n    },\n    {\n      \"column\": \"Maximum humidity (%)\",\n      \"properties\": {\n        \"dtype\": \"number\",\n        \"std\": 18,\n        \"min\": 14,\n        \"max\": 96,\n        \"num_unique_values\": 81,\n        \"samples\": [\n          80,\n          44,\n          76\n        ],\n        \"semantic_type\": \"\",\n        \"description\": \"\"\n      }\n    },\n    {\n      \"column\": \"Minimum humidity (%)\",\n      \"properties\": {\n        \"dtype\": \"number\",\n        \"std\": 15,\n        \"min\": 0,\n        \"max\": 90,\n        \"num_unique_values\": 88,\n        \"samples\": [\n          2,\n          27,\n          36\n        ],\n        \"semantic_type\": \"\",\n        \"description\": \"\"\n      }\n    },\n    {\n      \"column\": \"Maximum pressure \",\n      \"properties\": {\n        \"dtype\": \"number\",\n        \"std\": 0.25811927732484136,\n        \"min\": 29.338,\n        \"max\": 31.204,\n        \"num_unique_values\": 990,\n        \"samples\": [\n          30.013,\n          29.953000000000007,\n          30.978\n        ],\n        \"semantic_type\": \"\",\n        \"description\": \"\"\n      }\n    },\n    {\n      \"column\": \"Minimum pressure \",\n      \"properties\": {\n        \"dtype\": \"number\",\n        \"std\": 0.4811778508154735,\n        \"min\": 13.265999999999998,\n        \"max\": 30.855,\n        \"num_unique_values\": 1021,\n        \"samples\": [\n          29.219,\n          29.169,\n          29.621\n        ],\n        \"semantic_type\": \"\",\n        \"description\": \"\"\n      }\n    },\n    {\n      \"column\": \"Maximum windspeed (mph)\",\n      \"properties\": {\n        \"dtype\": \"number\",\n        \"std\": 13.060875060425204,\n        \"min\": 0.0,\n        \"max\": 181.7,\n        \"num_unique_values\": 63,\n        \"samples\": [\n          50.6,\n          181.7,\n          41.4\n        ],\n        \"semantic_type\": \"\",\n        \"description\": \"\"\n      }\n    },\n    {\n      \"column\": \"Maximum gust speed (mph)\",\n      \"properties\": {\n        \"dtype\": \"number\",\n        \"std\": 41.84683960618456,\n        \"min\": 0.0,\n        \"max\": 255.3,\n        \"num_unique_values\": 100,\n        \"samples\": [\n          67.9,\n          27.6,\n          42.6\n        ],\n        \"semantic_type\": \"\",\n        \"description\": \"\"\n      }\n    },\n    {\n      \"column\": \"Maximum heat index (\\u00b0F)\",\n      \"properties\": {\n        \"dtype\": \"number\",\n        \"std\": 17.837418398294485,\n        \"min\": -6.1,\n        \"max\": 88.4,\n        \"num_unique_values\": 587,\n        \"samples\": [\n          26.3,\n          29.1,\n          49.7\n        ],\n        \"semantic_type\": \"\",\n        \"description\": \"\"\n      }\n    }\n  ]\n}"
            }
          },
          "metadata": {},
          "execution_count": 3
        }
      ]
    },
    {
      "cell_type": "markdown",
      "source": [
        "### Calculate standard deviation for maximum windspeed."
      ],
      "metadata": {
        "id": "yRi5TB2H7w4a"
      }
    },
    {
      "cell_type": "code",
      "source": [
        "data['Maximum windspeed (mph)'].std()"
      ],
      "metadata": {
        "colab": {
          "base_uri": "https://localhost:8080/"
        },
        "id": "7QoJWCrz7kFF",
        "outputId": "634fff8a-7479-41ae-c9f7-3dc97da429e9"
      },
      "execution_count": 5,
      "outputs": [
        {
          "output_type": "execute_result",
          "data": {
            "text/plain": [
              "13.060875060425204"
            ]
          },
          "metadata": {},
          "execution_count": 5
        }
      ]
    },
    {
      "cell_type": "markdown",
      "source": [
        "### Calculate the difference between 50th percentile and 75th percentile of average temperature."
      ],
      "metadata": {
        "id": "nMnviViD8K6Z"
      }
    },
    {
      "cell_type": "code",
      "source": [
        "np.percentile(data['Average temperature (°F)'], 75) - np.percentile(data['Average temperature (°F)'], 50)"
      ],
      "metadata": {
        "colab": {
          "base_uri": "https://localhost:8080/"
        },
        "id": "G5Efyjc08E4T",
        "outputId": "7e20fa2f-bc23-4fc9-f935-f85a964e43ed"
      },
      "execution_count": 7,
      "outputs": [
        {
          "output_type": "execute_result",
          "data": {
            "text/plain": [
              "12.200000000000003"
            ]
          },
          "metadata": {},
          "execution_count": 7
        }
      ]
    },
    {
      "cell_type": "markdown",
      "source": [
        "### Calculate pearson correlation for average dewpoint and average temperature"
      ],
      "metadata": {
        "id": "W705EVWH8xHq"
      }
    },
    {
      "cell_type": "code",
      "source": [
        "data[['Average dewpoint (°F)', 'Average temperature (°F)']].corr()"
      ],
      "metadata": {
        "colab": {
          "base_uri": "https://localhost:8080/",
          "height": 112
        },
        "id": "wIOvo3ie8ecT",
        "outputId": "71912ab4-4db4-4f65-8eec-a1d925e858c5"
      },
      "execution_count": 15,
      "outputs": [
        {
          "output_type": "execute_result",
          "data": {
            "text/plain": [
              "                          Average dewpoint (°F)  Average temperature (°F)\n",
              "Average dewpoint (°F)                  1.000000                  0.759609\n",
              "Average temperature (°F)               0.759609                  1.000000"
            ],
            "text/html": [
              "\n",
              "  <div id=\"df-fbf2ae43-73f0-4cd1-82d8-552ebb2dcb80\" class=\"colab-df-container\">\n",
              "    <div>\n",
              "<style scoped>\n",
              "    .dataframe tbody tr th:only-of-type {\n",
              "        vertical-align: middle;\n",
              "    }\n",
              "\n",
              "    .dataframe tbody tr th {\n",
              "        vertical-align: top;\n",
              "    }\n",
              "\n",
              "    .dataframe thead th {\n",
              "        text-align: right;\n",
              "    }\n",
              "</style>\n",
              "<table border=\"1\" class=\"dataframe\">\n",
              "  <thead>\n",
              "    <tr style=\"text-align: right;\">\n",
              "      <th></th>\n",
              "      <th>Average dewpoint (°F)</th>\n",
              "      <th>Average temperature (°F)</th>\n",
              "    </tr>\n",
              "  </thead>\n",
              "  <tbody>\n",
              "    <tr>\n",
              "      <th>Average dewpoint (°F)</th>\n",
              "      <td>1.000000</td>\n",
              "      <td>0.759609</td>\n",
              "    </tr>\n",
              "    <tr>\n",
              "      <th>Average temperature (°F)</th>\n",
              "      <td>0.759609</td>\n",
              "      <td>1.000000</td>\n",
              "    </tr>\n",
              "  </tbody>\n",
              "</table>\n",
              "</div>\n",
              "    <div class=\"colab-df-buttons\">\n",
              "\n",
              "  <div class=\"colab-df-container\">\n",
              "    <button class=\"colab-df-convert\" onclick=\"convertToInteractive('df-fbf2ae43-73f0-4cd1-82d8-552ebb2dcb80')\"\n",
              "            title=\"Convert this dataframe to an interactive table.\"\n",
              "            style=\"display:none;\">\n",
              "\n",
              "  <svg xmlns=\"http://www.w3.org/2000/svg\" height=\"24px\" viewBox=\"0 -960 960 960\">\n",
              "    <path d=\"M120-120v-720h720v720H120Zm60-500h600v-160H180v160Zm220 220h160v-160H400v160Zm0 220h160v-160H400v160ZM180-400h160v-160H180v160Zm440 0h160v-160H620v160ZM180-180h160v-160H180v160Zm440 0h160v-160H620v160Z\"/>\n",
              "  </svg>\n",
              "    </button>\n",
              "\n",
              "  <style>\n",
              "    .colab-df-container {\n",
              "      display:flex;\n",
              "      gap: 12px;\n",
              "    }\n",
              "\n",
              "    .colab-df-convert {\n",
              "      background-color: #E8F0FE;\n",
              "      border: none;\n",
              "      border-radius: 50%;\n",
              "      cursor: pointer;\n",
              "      display: none;\n",
              "      fill: #1967D2;\n",
              "      height: 32px;\n",
              "      padding: 0 0 0 0;\n",
              "      width: 32px;\n",
              "    }\n",
              "\n",
              "    .colab-df-convert:hover {\n",
              "      background-color: #E2EBFA;\n",
              "      box-shadow: 0px 1px 2px rgba(60, 64, 67, 0.3), 0px 1px 3px 1px rgba(60, 64, 67, 0.15);\n",
              "      fill: #174EA6;\n",
              "    }\n",
              "\n",
              "    .colab-df-buttons div {\n",
              "      margin-bottom: 4px;\n",
              "    }\n",
              "\n",
              "    [theme=dark] .colab-df-convert {\n",
              "      background-color: #3B4455;\n",
              "      fill: #D2E3FC;\n",
              "    }\n",
              "\n",
              "    [theme=dark] .colab-df-convert:hover {\n",
              "      background-color: #434B5C;\n",
              "      box-shadow: 0px 1px 3px 1px rgba(0, 0, 0, 0.15);\n",
              "      filter: drop-shadow(0px 1px 2px rgba(0, 0, 0, 0.3));\n",
              "      fill: #FFFFFF;\n",
              "    }\n",
              "  </style>\n",
              "\n",
              "    <script>\n",
              "      const buttonEl =\n",
              "        document.querySelector('#df-fbf2ae43-73f0-4cd1-82d8-552ebb2dcb80 button.colab-df-convert');\n",
              "      buttonEl.style.display =\n",
              "        google.colab.kernel.accessAllowed ? 'block' : 'none';\n",
              "\n",
              "      async function convertToInteractive(key) {\n",
              "        const element = document.querySelector('#df-fbf2ae43-73f0-4cd1-82d8-552ebb2dcb80');\n",
              "        const dataTable =\n",
              "          await google.colab.kernel.invokeFunction('convertToInteractive',\n",
              "                                                    [key], {});\n",
              "        if (!dataTable) return;\n",
              "\n",
              "        const docLinkHtml = 'Like what you see? Visit the ' +\n",
              "          '<a target=\"_blank\" href=https://colab.research.google.com/notebooks/data_table.ipynb>data table notebook</a>'\n",
              "          + ' to learn more about interactive tables.';\n",
              "        element.innerHTML = '';\n",
              "        dataTable['output_type'] = 'display_data';\n",
              "        await google.colab.output.renderOutput(dataTable, element);\n",
              "        const docLink = document.createElement('div');\n",
              "        docLink.innerHTML = docLinkHtml;\n",
              "        element.appendChild(docLink);\n",
              "      }\n",
              "    </script>\n",
              "  </div>\n",
              "\n",
              "\n",
              "<div id=\"df-f155205f-b0c1-4859-b3f3-cd60fe1ba80d\">\n",
              "  <button class=\"colab-df-quickchart\" onclick=\"quickchart('df-f155205f-b0c1-4859-b3f3-cd60fe1ba80d')\"\n",
              "            title=\"Suggest charts\"\n",
              "            style=\"display:none;\">\n",
              "\n",
              "<svg xmlns=\"http://www.w3.org/2000/svg\" height=\"24px\"viewBox=\"0 0 24 24\"\n",
              "     width=\"24px\">\n",
              "    <g>\n",
              "        <path d=\"M19 3H5c-1.1 0-2 .9-2 2v14c0 1.1.9 2 2 2h14c1.1 0 2-.9 2-2V5c0-1.1-.9-2-2-2zM9 17H7v-7h2v7zm4 0h-2V7h2v10zm4 0h-2v-4h2v4z\"/>\n",
              "    </g>\n",
              "</svg>\n",
              "  </button>\n",
              "\n",
              "<style>\n",
              "  .colab-df-quickchart {\n",
              "      --bg-color: #E8F0FE;\n",
              "      --fill-color: #1967D2;\n",
              "      --hover-bg-color: #E2EBFA;\n",
              "      --hover-fill-color: #174EA6;\n",
              "      --disabled-fill-color: #AAA;\n",
              "      --disabled-bg-color: #DDD;\n",
              "  }\n",
              "\n",
              "  [theme=dark] .colab-df-quickchart {\n",
              "      --bg-color: #3B4455;\n",
              "      --fill-color: #D2E3FC;\n",
              "      --hover-bg-color: #434B5C;\n",
              "      --hover-fill-color: #FFFFFF;\n",
              "      --disabled-bg-color: #3B4455;\n",
              "      --disabled-fill-color: #666;\n",
              "  }\n",
              "\n",
              "  .colab-df-quickchart {\n",
              "    background-color: var(--bg-color);\n",
              "    border: none;\n",
              "    border-radius: 50%;\n",
              "    cursor: pointer;\n",
              "    display: none;\n",
              "    fill: var(--fill-color);\n",
              "    height: 32px;\n",
              "    padding: 0;\n",
              "    width: 32px;\n",
              "  }\n",
              "\n",
              "  .colab-df-quickchart:hover {\n",
              "    background-color: var(--hover-bg-color);\n",
              "    box-shadow: 0 1px 2px rgba(60, 64, 67, 0.3), 0 1px 3px 1px rgba(60, 64, 67, 0.15);\n",
              "    fill: var(--button-hover-fill-color);\n",
              "  }\n",
              "\n",
              "  .colab-df-quickchart-complete:disabled,\n",
              "  .colab-df-quickchart-complete:disabled:hover {\n",
              "    background-color: var(--disabled-bg-color);\n",
              "    fill: var(--disabled-fill-color);\n",
              "    box-shadow: none;\n",
              "  }\n",
              "\n",
              "  .colab-df-spinner {\n",
              "    border: 2px solid var(--fill-color);\n",
              "    border-color: transparent;\n",
              "    border-bottom-color: var(--fill-color);\n",
              "    animation:\n",
              "      spin 1s steps(1) infinite;\n",
              "  }\n",
              "\n",
              "  @keyframes spin {\n",
              "    0% {\n",
              "      border-color: transparent;\n",
              "      border-bottom-color: var(--fill-color);\n",
              "      border-left-color: var(--fill-color);\n",
              "    }\n",
              "    20% {\n",
              "      border-color: transparent;\n",
              "      border-left-color: var(--fill-color);\n",
              "      border-top-color: var(--fill-color);\n",
              "    }\n",
              "    30% {\n",
              "      border-color: transparent;\n",
              "      border-left-color: var(--fill-color);\n",
              "      border-top-color: var(--fill-color);\n",
              "      border-right-color: var(--fill-color);\n",
              "    }\n",
              "    40% {\n",
              "      border-color: transparent;\n",
              "      border-right-color: var(--fill-color);\n",
              "      border-top-color: var(--fill-color);\n",
              "    }\n",
              "    60% {\n",
              "      border-color: transparent;\n",
              "      border-right-color: var(--fill-color);\n",
              "    }\n",
              "    80% {\n",
              "      border-color: transparent;\n",
              "      border-right-color: var(--fill-color);\n",
              "      border-bottom-color: var(--fill-color);\n",
              "    }\n",
              "    90% {\n",
              "      border-color: transparent;\n",
              "      border-bottom-color: var(--fill-color);\n",
              "    }\n",
              "  }\n",
              "</style>\n",
              "\n",
              "  <script>\n",
              "    async function quickchart(key) {\n",
              "      const quickchartButtonEl =\n",
              "        document.querySelector('#' + key + ' button');\n",
              "      quickchartButtonEl.disabled = true;  // To prevent multiple clicks.\n",
              "      quickchartButtonEl.classList.add('colab-df-spinner');\n",
              "      try {\n",
              "        const charts = await google.colab.kernel.invokeFunction(\n",
              "            'suggestCharts', [key], {});\n",
              "      } catch (error) {\n",
              "        console.error('Error during call to suggestCharts:', error);\n",
              "      }\n",
              "      quickchartButtonEl.classList.remove('colab-df-spinner');\n",
              "      quickchartButtonEl.classList.add('colab-df-quickchart-complete');\n",
              "    }\n",
              "    (() => {\n",
              "      let quickchartButtonEl =\n",
              "        document.querySelector('#df-f155205f-b0c1-4859-b3f3-cd60fe1ba80d button');\n",
              "      quickchartButtonEl.style.display =\n",
              "        google.colab.kernel.accessAllowed ? 'block' : 'none';\n",
              "    })();\n",
              "  </script>\n",
              "</div>\n",
              "\n",
              "    </div>\n",
              "  </div>\n"
            ],
            "application/vnd.google.colaboratory.intrinsic+json": {
              "type": "dataframe",
              "summary": "{\n  \"name\": \"data[['Average dewpoint (\\u00b0F)', 'Average temperature (\\u00b0F)']]\",\n  \"rows\": 2,\n  \"fields\": [\n    {\n      \"column\": \"Average dewpoint (\\u00b0F)\",\n      \"properties\": {\n        \"dtype\": \"number\",\n        \"std\": 0.16998201759561446,\n        \"min\": 0.75960912535674,\n        \"max\": 1.0,\n        \"num_unique_values\": 2,\n        \"samples\": [\n          0.75960912535674,\n          1.0\n        ],\n        \"semantic_type\": \"\",\n        \"description\": \"\"\n      }\n    },\n    {\n      \"column\": \"Average temperature (\\u00b0F)\",\n      \"properties\": {\n        \"dtype\": \"number\",\n        \"std\": 0.16998201759561446,\n        \"min\": 0.75960912535674,\n        \"max\": 1.0,\n        \"num_unique_values\": 2,\n        \"samples\": [\n          1.0,\n          0.75960912535674\n        ],\n        \"semantic_type\": \"\",\n        \"description\": \"\"\n      }\n    }\n  ]\n}"
            }
          },
          "metadata": {},
          "execution_count": 15
        }
      ]
    },
    {
      "cell_type": "markdown",
      "source": [
        "### Out of all the available records which month has the lowest average humidity."
      ],
      "metadata": {
        "id": "SCcdn3GN9389"
      }
    },
    {
      "cell_type": "code",
      "source": [
        "Day_with_lowest_humidity = data.groupby('Day')['Average humidity (%)'].mean().sort_values().index[0]\n",
        "print(f\"Day with the lowest average humidity: {Day_with_lowest_humidity}\")"
      ],
      "metadata": {
        "colab": {
          "base_uri": "https://localhost:8080/"
        },
        "id": "S8o1KT61-IlJ",
        "outputId": "d5001d35-ac89-49c1-ef3c-7a8d2c060203"
      },
      "execution_count": 24,
      "outputs": [
        {
          "output_type": "stream",
          "name": "stdout",
          "text": [
            "Day with the lowest average humidity: 21/01/2014\n"
          ]
        }
      ]
    },
    {
      "cell_type": "markdown",
      "source": [
        "### Which month has the highest median for maximum_gust_speed out of all the available records. Also find the repective value"
      ],
      "metadata": {
        "id": "ZHWNz48A_Jnj"
      }
    },
    {
      "cell_type": "code",
      "source": [
        "data['month'] = pd.to_datetime(data['Day'], format='%d/%m/%Y').dt.month\n",
        "data['month']"
      ],
      "metadata": {
        "colab": {
          "base_uri": "https://localhost:8080/"
        },
        "id": "9SlRqif9-NaK",
        "outputId": "9706df86-5c6e-4a1c-cffa-dabf3811ee1a"
      },
      "execution_count": 34,
      "outputs": [
        {
          "output_type": "execute_result",
          "data": {
            "text/plain": [
              "0        1\n",
              "1        1\n",
              "2        1\n",
              "3        1\n",
              "4        1\n",
              "        ..\n",
              "3275    10\n",
              "3276    10\n",
              "3277    10\n",
              "3278    10\n",
              "3279    10\n",
              "Name: month, Length: 3280, dtype: int32"
            ]
          },
          "metadata": {},
          "execution_count": 34
        }
      ]
    },
    {
      "cell_type": "code",
      "source": [
        "monthly_median_gust = data.groupby('month')['Maximum gust speed (mph)'].median()\n",
        "monthly_median_gust.max()\n",
        "print(f\"Highest median for maximum gust speed: {monthly_median_gust.max()}\")\n",
        "max_gust_month = monthly_median_gust.idxmax()\n",
        "print(f\"Month with the highest median for maximum gust speed: {max_gust_month}\")"
      ],
      "metadata": {
        "colab": {
          "base_uri": "https://localhost:8080/"
        },
        "id": "Xh-9kRfA_kYC",
        "outputId": "e8d7c193-f2a7-46e1-8047-8d7abfd0f24b"
      },
      "execution_count": 43,
      "outputs": [
        {
          "output_type": "stream",
          "name": "stdout",
          "text": [
            "Highest median for maximum gust speed: 34.5\n",
            "Month with the highest median for maximum gust speed: 2\n"
          ]
        }
      ]
    },
    {
      "cell_type": "markdown",
      "source": [
        "### Determine the average temperature between the months of March 2010 to May 2012 (including both the months)"
      ],
      "metadata": {
        "id": "Grb4x2SAC0R8"
      }
    },
    {
      "cell_type": "code",
      "source": [
        "avg_temp = data.loc['01/03/2010':'31/05/2012', 'Average temperature (°F)'].mean()\n",
        "avg_temp"
      ],
      "metadata": {
        "colab": {
          "base_uri": "https://localhost:8080/"
        },
        "id": "Yp8nd5PnDEBt",
        "outputId": "c3bb5735-20ba-4e68-a3dd-9e07a7b3b292"
      },
      "execution_count": 58,
      "outputs": [
        {
          "output_type": "execute_result",
          "data": {
            "text/plain": [
              "44.52416908680219"
            ]
          },
          "metadata": {},
          "execution_count": 58
        }
      ]
    },
    {
      "cell_type": "markdown",
      "source": [
        "### Find the range of averange temperature  on Dec 2010"
      ],
      "metadata": {
        "id": "5arSR78RWu3K"
      }
    },
    {
      "cell_type": "code",
      "source": [
        "\n",
        "dec_2010_temp = data.loc['02/12/2010':'31/12/2010', 'Average temperature (°F)']\n",
        "dec_2010_temp_range = dec_2010_temp.max() - dec_2010_temp.min()\n",
        "print(f\"Range of average temperature in December 2010: {dec_2010_temp_range}\")\n"
      ],
      "metadata": {
        "colab": {
          "base_uri": "https://localhost:8080/"
        },
        "id": "QBUxNrloDE8s",
        "outputId": "533ffc7e-18bc-47f4-faa1-30a9b2ee12b1"
      },
      "execution_count": 73,
      "outputs": [
        {
          "output_type": "stream",
          "name": "stdout",
          "text": [
            "Range of average temperature in December 2010: 88.39999999999999\n"
          ]
        }
      ]
    },
    {
      "cell_type": "markdown",
      "source": [
        "### Out of all available records which day has the highest difference between maximum_pressure and minimum_pressure"
      ],
      "metadata": {
        "id": "91lI4fx-ZvbW"
      }
    },
    {
      "cell_type": "code",
      "source": [
        "diff_pressure = data['Maximum pressure '] - data['Minimum pressure ']\n",
        "data['Day'].iloc[diff_pressure.sort_values(ascending=False).index[0]]"
      ],
      "metadata": {
        "colab": {
          "base_uri": "https://localhost:8080/",
          "height": 36
        },
        "id": "Ax7CKnNQXMK5",
        "outputId": "c4c73af5-7386-4a0f-ca7d-67089aa50f79"
      },
      "execution_count": 78,
      "outputs": [
        {
          "output_type": "execute_result",
          "data": {
            "text/plain": [
              "'23/03/2018'"
            ],
            "application/vnd.google.colaboratory.intrinsic+json": {
              "type": "string"
            }
          },
          "metadata": {},
          "execution_count": 78
        }
      ]
    },
    {
      "cell_type": "markdown",
      "source": [
        "### How many days falls under median (i.e equal to median value) of barrometer reading."
      ],
      "metadata": {
        "id": "M7uw2mpfZzxR"
      }
    },
    {
      "cell_type": "code",
      "source": [
        "median_b_days = (data[\"Average barometer (in)\"] == data[\"Average barometer (in)\"].median()).sum()\n",
        "median_b_days"
      ],
      "metadata": {
        "colab": {
          "base_uri": "https://localhost:8080/"
        },
        "id": "GCZCDqgKZYc8",
        "outputId": "98be2fc3-5aa8-4e7b-c778-93400566989a"
      },
      "execution_count": 80,
      "outputs": [
        {
          "output_type": "execute_result",
          "data": {
            "text/plain": [
              "534"
            ]
          },
          "metadata": {},
          "execution_count": 80
        }
      ]
    },
    {
      "cell_type": "markdown",
      "source": [
        "### Out of all the available records how many days are within one standard deviation of average temperaturem"
      ],
      "metadata": {
        "id": "s2Ir-MglaZ2P"
      }
    },
    {
      "cell_type": "code",
      "source": [
        "avg_temp_std = data['Average temperature (°F)'].std()\n",
        "avg_temp_mean = data['Average temperature (°F)'].mean()\n",
        "one_std_days = (data['Average temperature (°F)'] >= avg_temp_mean - avg_temp_std) & (data['Average temperature (°F)'] <= avg_temp_mean + avg_temp_std)\n",
        "one_std_days.sum()"
      ],
      "metadata": {
        "colab": {
          "base_uri": "https://localhost:8080/"
        },
        "id": "7Wv7Of2vaunW",
        "outputId": "de531247-659e-4927-9084-eaa93b95e4c7"
      },
      "execution_count": 81,
      "outputs": [
        {
          "output_type": "execute_result",
          "data": {
            "text/plain": [
              "2092"
            ]
          },
          "metadata": {},
          "execution_count": 81
        }
      ]
    },
    {
      "cell_type": "code",
      "source": [],
      "metadata": {
        "id": "LhdCxDrOa40p"
      },
      "execution_count": null,
      "outputs": []
    }
  ]
}